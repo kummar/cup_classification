{
 "cells": [
  {
   "cell_type": "code",
   "execution_count": 1,
   "metadata": {},
   "outputs": [
    {
     "name": "stderr",
     "output_type": "stream",
     "text": [
      "Using TensorFlow backend.\n"
     ]
    }
   ],
   "source": [
    "# 导入必要的包\n",
    "import pandas as pd\n",
    "import numpy as np\n",
    "\n",
    "from sklearn.model_selection import train_test_split\n",
    "from sklearn.metrics import log_loss\n",
    "from sklearn.model_selection import StratifiedKFold, StratifiedShuffleSplit\n",
    "\n",
    "from keras.optimizers import RMSprop\n",
    "from keras.preprocessing.image import ImageDataGenerator, img_to_array, load_img\n",
    "from keras.models import Sequential\n",
    "from keras.layers import Conv2D, MaxPooling2D, Dense, Dropout, Input, Flatten, Activation\n",
    "from keras.layers import GlobalMaxPooling2D\n",
    "from keras.layers.normalization import BatchNormalization\n",
    "from keras.layers.merge import Concatenate\n",
    "from keras.models import Model\n",
    "from keras import initializers\n",
    "from keras.optimizers import Adam\n",
    "from keras.optimizers import rmsprop\n",
    "from keras.layers.advanced_activations import LeakyReLU, PReLU\n",
    "from keras.optimizers import SGD\n",
    "from keras.callbacks import ModelCheckpoint, Callback, EarlyStopping\n",
    "\n",
    "from keras.datasets import cifar10\n",
    "from keras.applications.inception_v3 import InceptionV3\n",
    "from keras.applications.vgg16 import VGG16\n",
    "from keras.applications.xception import Xception\n",
    "from keras.applications.mobilenet import MobileNet\n",
    "from keras.applications.vgg19 import VGG19\n",
    "from keras.layers import Concatenate, Dense, LSTM, Input, concatenate\n",
    "from keras.preprocessing import image\n",
    "from keras.applications.vgg16 import preprocess_input"
   ]
  },
  {
   "cell_type": "code",
   "execution_count": 2,
   "metadata": {},
   "outputs": [],
   "source": [
    "## 依据已有图片做随机旋转，生成更多样本数据\n",
    "\n",
    "# 使用ImageDataGenerator处理图片\n",
    "datagen = ImageDataGenerator(\n",
    "        rotation_range=40,\n",
    "        width_shift_range=0.2,\n",
    "        height_shift_range=0.2,\n",
    "        shear_range=0.2,\n",
    "        zoom_range=0.2,\n",
    "        horizontal_flip=True,\n",
    "        fill_mode='nearest')"
   ]
  },
  {
   "cell_type": "markdown",
   "metadata": {},
   "source": [
    "### 数据预处理部分"
   ]
  },
  {
   "cell_type": "code",
   "execution_count": 3,
   "metadata": {
    "collapsed": true
   },
   "outputs": [],
   "source": [
    "# 生成更多的样本\n",
    "def GetMore_Image(cup_type):\n",
    "    if cup_type == 'd':\n",
    "        print \"Processing {}\".format(cup_type)\n",
    "        \n",
    "        for i in range(1,10):\n",
    "            img = load_img('./original_data/cup_{c_type}/{c_type}{num}.png'.format(c_type = cup_type, num = i))\n",
    "            x = img_to_array(img) \n",
    "            x = x.reshape((1,) + x.shape) \n",
    "            \n",
    "            a = 0\n",
    "            for batch in datagen.flow(x, \n",
    "                                      batch_size=1, \n",
    "                                      save_to_dir='/Users/Kum/Desktop/Machine_Learning/project/cup_classification/processed_data/', \n",
    "                                      save_prefix='{c_type}_cup'.format(c_type = cup_type), \n",
    "                                      save_format='jpeg'):\n",
    "                a += 1\n",
    "                if a > 20:\n",
    "                    break\n",
    "            \n",
    "            print \"Cup {} of {} is Done!\".format(cup_type, i)\n",
    "    else:\n",
    "        print \"Processing {}\".format(cup_type)\n",
    "        \n",
    "        for i in range(1,11):\n",
    "            img = load_img('./original_data/cup_{c_type}/{c_type}{num}.png'.format(c_type = cup_type, num = i))\n",
    "            x = img_to_array(img) \n",
    "            x = x.reshape((1,) + x.shape) \n",
    "            \n",
    "            a = 0\n",
    "            for batch in datagen.flow(x, \n",
    "                                      batch_size=1, \n",
    "                                      save_to_dir='/Users/Kum/Desktop/Machine_Learning/project/cup_classification/processed_data/', \n",
    "                                      save_prefix='{c_type}_cup'.format(c_type = cup_type), \n",
    "                                      save_format='jpeg'):\n",
    "                a += 1\n",
    "                if a > 20:\n",
    "                    break\n",
    "            \n",
    "            print \"Cup {} of {} is Done!\".format(cup_type, i)  \n"
   ]
  },
  {
   "cell_type": "code",
   "execution_count": 17,
   "metadata": {},
   "outputs": [
    {
     "name": "stdout",
     "output_type": "stream",
     "text": [
      "Processing d\n",
      "Cup d of 1 is Done!\n",
      "Cup d of 2 is Done!\n",
      "Cup d of 3 is Done!\n",
      "Cup d of 4 is Done!\n",
      "Cup d of 5 is Done!\n",
      "Cup d of 6 is Done!\n",
      "Cup d of 7 is Done!\n",
      "Cup d of 8 is Done!\n",
      "Cup d of 9 is Done!\n"
     ]
    }
   ],
   "source": [
    "# 存在一个文件夹\n",
    "for cup_type in ['d']:\n",
    "    GetMore_Image('{}'.format(cup_type))"
   ]
  },
  {
   "cell_type": "markdown",
   "metadata": {},
   "source": [
    "### 模型训练部分"
   ]
  },
  {
   "cell_type": "code",
   "execution_count": 3,
   "metadata": {},
   "outputs": [],
   "source": [
    "# 设定必要的变量\n",
    "img_width, img_height = 300, 300\n",
    "data_dir = './processed_data/'\n",
    "epochs = 50\n",
    "batch_size = 8\n",
    "input_shape = (img_width, img_height, 3)"
   ]
  },
  {
   "cell_type": "code",
   "execution_count": 4,
   "metadata": {},
   "outputs": [],
   "source": [
    "model = Sequential()\n",
    "model.add(Conv2D(32, (3, 3), input_shape=input_shape))\n",
    "model.add(Activation('relu'))\n",
    "model.add(MaxPooling2D(pool_size=(2, 2)))\n",
    "\n",
    "model.add(Conv2D(32, (3, 3)))\n",
    "model.add(Activation('relu'))\n",
    "model.add(MaxPooling2D(pool_size=(2, 2)))\n",
    "\n",
    "model.add(Conv2D(64, (3, 3)))\n",
    "model.add(Activation('relu'))\n",
    "model.add(MaxPooling2D(pool_size=(2, 2)))\n",
    "\n",
    "model.add(Flatten())\n",
    "model.add(Dense(64))\n",
    "model.add(Activation('relu'))\n",
    "model.add(Dropout(0.5))\n",
    "model.add(Dense(1))\n",
    "model.add(Activation('sigmoid'))\n",
    "\n",
    "model.compile(loss='binary_crossentropy',\n",
    "              optimizer='rmsprop',\n",
    "              metrics=['accuracy'])"
   ]
  },
  {
   "cell_type": "code",
   "execution_count": 8,
   "metadata": {},
   "outputs": [
    {
     "name": "stdout",
     "output_type": "stream",
     "text": [
      "Found 0 images belonging to 0 classes.\n"
     ]
    }
   ],
   "source": [
    "# this is the augmentation configuration we will use for training\n",
    "train_datagen = ImageDataGenerator(\n",
    "    rescale=1. / 255,\n",
    "    shear_range=0.2,\n",
    "    zoom_range=0.2,\n",
    "    horizontal_flip=True)\n",
    "\n",
    "train_generator = train_datagen.flow_from_directory(\n",
    "    data_dir,\n",
    "    target_size=(img_width, img_height),\n",
    "    batch_size=batch_size,\n",
    "    class_mode='categorical')"
   ]
  },
  {
   "cell_type": "code",
   "execution_count": null,
   "metadata": {},
   "outputs": [],
   "source": []
  }
 ],
 "metadata": {
  "kernelspec": {
   "display_name": "Python 2",
   "language": "python",
   "name": "python2"
  },
  "language_info": {
   "codemirror_mode": {
    "name": "ipython",
    "version": 2
   },
   "file_extension": ".py",
   "mimetype": "text/x-python",
   "name": "python",
   "nbconvert_exporter": "python",
   "pygments_lexer": "ipython2",
   "version": "2.7.12"
  }
 },
 "nbformat": 4,
 "nbformat_minor": 2
}
